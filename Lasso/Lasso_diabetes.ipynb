{
 "cells": [
  {
   "cell_type": "markdown",
   "id": "3c604865",
   "metadata": {},
   "source": [
    "# CS5920 Coursework: Assignment 2"
   ]
  },
  {
   "cell_type": "markdown",
   "id": "e8d845bf",
   "metadata": {},
   "source": [
    "<b>1) Load the scikit-learn version of the diabetes dataset and check the details in the description of the dataset</b>"
   ]
  },
  {
   "cell_type": "code",
   "execution_count": 1,
   "id": "bb513523",
   "metadata": {},
   "outputs": [
    {
     "name": "stdout",
     "output_type": "stream",
     "text": [
      ".. _diabetes_dataset:\n",
      "\n",
      "Diabetes dataset\n",
      "----------------\n",
      "\n",
      "Ten baseline variables, age, sex, body mass index, average blood\n",
      "pressure, and six blood serum measurements were obtained for each of n =\n",
      "442 diabetes patients, as well as the response of interest, a\n",
      "quantitative measure of disease progression one year after baseline.\n",
      "\n",
      "**Data Set Characteristics:**\n",
      "\n",
      "  :Number of Instances: 442\n",
      "\n",
      "  :Number of Attributes: First 10 columns are numeric predictive values\n",
      "\n",
      "  :Target: Column 11 is a quantitative measure of disease progression one year after baseline\n",
      "\n",
      "  :Attribute Information:\n",
      "      - age     age in years\n",
      "      - sex\n",
      "      - bmi     body mass index\n",
      "      - bp      average blood pressure\n",
      "      - s1      tc, T-Cells (a type of white blood cells)\n",
      "      - s2      ldl, low-density lipoproteins\n",
      "      - s3      hdl, high-density lipoproteins\n",
      "      - s4      tch, thyroid stimulating hormone\n",
      "      - s5      ltg, lamotrigine\n",
      "      - s6      glu, blood sugar level\n",
      "\n",
      "Note: Each of these 10 feature variables have been mean centered and scaled by the standard deviation times `n_samples` (i.e. the sum of squares of each column totals 1).\n",
      "\n",
      "Source URL:\n",
      "https://www4.stat.ncsu.edu/~boos/var.select/diabetes.html\n",
      "\n",
      "For more information see:\n",
      "Bradley Efron, Trevor Hastie, Iain Johnstone and Robert Tibshirani (2004) \"Least Angle Regression,\" Annals of Statistics (with discussion), 407-499.\n",
      "(https://web.stanford.edu/~hastie/Papers/LARS/LeastAngle_2002.pdf)\n"
     ]
    }
   ],
   "source": [
    "from sklearn.datasets import load_diabetes\n",
    "diabetes = load_diabetes()\n",
    "print(diabetes.DESCR)"
   ]
  },
  {
   "cell_type": "markdown",
   "id": "37ce8a3d",
   "metadata": {},
   "source": [
    "<b>2) Split the dataset using my birthday as random_state.</b>"
   ]
  },
  {
   "cell_type": "code",
   "execution_count": 2,
   "id": "0b4956f1",
   "metadata": {},
   "outputs": [],
   "source": [
    "from sklearn.model_selection import train_test_split\n",
    "X_train, X_test, y_train, y_test = train_test_split(diabetes['data'], diabetes['target'],random_state=2707)  \n",
    "# split into train & test"
   ]
  },
  {
   "cell_type": "markdown",
   "id": "15f5de39",
   "metadata": {},
   "source": [
    "<b>3-A) What is the training and test R^2 for the Lasso model using the default parameters? </b>"
   ]
  },
  {
   "cell_type": "code",
   "execution_count": 3,
   "id": "f5956c4e",
   "metadata": {},
   "outputs": [
    {
     "name": "stdout",
     "output_type": "stream",
     "text": [
      "Using default lasso.score function\n",
      "Training R^2 is  0.3752615130620861\n",
      "Test R^2 is  0.3356480040657539\n"
     ]
    }
   ],
   "source": [
    "from sklearn.linear_model import Lasso\n",
    "lasso = Lasso().fit(X_train,y_train)\n",
    "print(\"Using default lasso.score function\")\n",
    "print(\"Training R^2 is \",lasso.score(X_train,y_train))\n",
    "print(\"Test R^2 is \",lasso.score(X_test,y_test))"
   ]
  },
  {
   "cell_type": "code",
   "execution_count": 4,
   "id": "d0cadf5f",
   "metadata": {},
   "outputs": [
    {
     "data": {
      "text/plain": [
       "{'age': 0.0,\n",
       " 'sex': 0.0,\n",
       " 'bmi': 380.50656728833906,\n",
       " 'bp': 0.0,\n",
       " 's1': 0.0,\n",
       " 's2': 0.0,\n",
       " 's3': -0.0,\n",
       " 's4': 0.0,\n",
       " 's5': 330.51673469321287,\n",
       " 's6': 0.0}"
      ]
     },
     "execution_count": 4,
     "metadata": {},
     "output_type": "execute_result"
    }
   ],
   "source": [
    "dict1 = dict(zip(diabetes.feature_names, lasso.coef_))\n",
    "dict1"
   ]
  },
  {
   "cell_type": "markdown",
   "id": "e5134e96",
   "metadata": {},
   "source": [
    "<b>3-B) How many features does this model use? What are the names of those features?</b>"
   ]
  },
  {
   "cell_type": "markdown",
   "id": "53d2cb9b",
   "metadata": {},
   "source": [
    "There are 10 feature variables in this default model which have been normalized, but the model uses only 2 features with coefficient not equal to 0.<br/>\n",
    "These are <b>bmi, s5</b>"
   ]
  },
  {
   "cell_type": "markdown",
   "id": "2a3f776f",
   "metadata": {},
   "source": [
    "<b>4. Load the original file diabetes.data from the web page</b>"
   ]
  },
  {
   "cell_type": "code",
   "execution_count": 5,
   "id": "7806a9ee",
   "metadata": {},
   "outputs": [],
   "source": [
    "import numpy as np\n",
    "col = 10\n",
    "Org_diabetes = np.genfromtxt(\"diabetes.data\",delimiter=\"\\t\",usecols=np.arange(col))\n",
    "OX = np.genfromtxt(\"diabetes.data\",delimiter=\"\\t\",usecols=np.arange(col),skip_header=1)\n",
    "oy = np.genfromtxt(\"diabetes.data\",delimiter=\"\\t\",usecols = col, dtype=int,skip_header=1)"
   ]
  },
  {
   "cell_type": "markdown",
   "id": "09c0b2cf",
   "metadata": {},
   "source": [
    "<b>5) Split the dataset into the training and test sets using my birthday as random_state.</b>"
   ]
  },
  {
   "cell_type": "code",
   "execution_count": 6,
   "id": "a283869a",
   "metadata": {},
   "outputs": [
    {
     "name": "stdout",
     "output_type": "stream",
     "text": [
      "Training R^2 is  0.5291526231532143\n",
      "Test R^2 is  0.45432152456259345\n"
     ]
    }
   ],
   "source": [
    "from sklearn.model_selection import train_test_split\n",
    "from sklearn.linear_model import Lasso\n",
    "\n",
    "OX_train, OX_test, oy_train, oy_test = train_test_split(OX,oy,random_state=2707) # split into train & test\n",
    "\n",
    "original_lasso = Lasso().fit(OX_train,oy_train)\n",
    "print(\"Training R^2 is \",original_lasso.score(OX_train,oy_train))\n",
    "print(\"Test R^2 is \",original_lasso.score(OX_test,oy_test))"
   ]
  },
  {
   "cell_type": "code",
   "execution_count": 7,
   "id": "a3f43e4c",
   "metadata": {},
   "outputs": [
    {
     "data": {
      "text/plain": [
       "{'age': -0.15803327770724016,\n",
       " 'sex': -16.785570373553096,\n",
       " 'bmi': 6.098970824496686,\n",
       " 'bp': 0.8680829354809336,\n",
       " 's1': -0.3011258686993192,\n",
       " 's2': 0.08327290900076686,\n",
       " 's3': -0.4528993629522233,\n",
       " 's4': 3.884057425950532,\n",
       " 's5': 47.38562125225051,\n",
       " 's6': 0.5586273101120138}"
      ]
     },
     "execution_count": 7,
     "metadata": {},
     "output_type": "execute_result"
    }
   ],
   "source": [
    "org_dict = dict(zip(diabetes.feature_names, original_lasso.coef_))\n",
    "org_dict"
   ]
  },
  {
   "cell_type": "markdown",
   "id": "18bfbfad",
   "metadata": {},
   "source": [
    "<b>6) What is the training and test R^2 for the new dataset model & how many features are being used by this model? </b>"
   ]
  },
  {
   "cell_type": "markdown",
   "id": "91db06bf",
   "metadata": {},
   "source": [
    "The new dataset model uses all the <b>10 features.</b>"
   ]
  },
  {
   "cell_type": "markdown",
   "id": "e51c86da",
   "metadata": {},
   "source": [
    "Using this new dataset <br/>\n",
    "<b>Training R^2</b> is  0.5291526231532143 <br/>\n",
    "<b>Test R^2</b> is  0.45432152456259345"
   ]
  },
  {
   "cell_type": "markdown",
   "id": "85e4c6c8",
   "metadata": {},
   "source": [
    "Compairing the result with the result in <b>item 3</b>, it can be seen that more features are being used by this new model so R^2 values are more than previous dataset. "
   ]
  },
  {
   "cell_type": "markdown",
   "id": "c0e44c50",
   "metadata": {},
   "source": [
    "<b>7) Preprocessing the training and test sets using StandardScaler.</b>"
   ]
  },
  {
   "cell_type": "code",
   "execution_count": 8,
   "id": "08283a07",
   "metadata": {},
   "outputs": [],
   "source": [
    "from sklearn.preprocessing import StandardScaler\n",
    "\n",
    "std_scaler = StandardScaler()\n",
    "std_scaler.fit(OX_train)\n",
    "\n",
    "OX_train_scaled = std_scaler.transform(OX_train)\n",
    "OX_test_scaled = std_scaler.transform(OX_test)"
   ]
  },
  {
   "cell_type": "code",
   "execution_count": 9,
   "id": "582ebe8e",
   "metadata": {},
   "outputs": [
    {
     "name": "stdout",
     "output_type": "stream",
     "text": [
      "Training R^2 is  0.5284043647664709\n",
      "Test R^2 is  0.45560871727314545\n"
     ]
    }
   ],
   "source": [
    "lasso_8 = Lasso().fit(OX_train_scaled,oy_train)\n",
    "print(\"Training R^2 is \",lasso_8.score(OX_train_scaled,oy_train))\n",
    "print(\"Test R^2 is \",lasso_8.score(OX_test_scaled,oy_test))"
   ]
  },
  {
   "cell_type": "code",
   "execution_count": 10,
   "id": "c58ffcc9",
   "metadata": {},
   "outputs": [
    {
     "data": {
      "text/plain": [
       "{'age': -0.5609166208692751,\n",
       " 'sex': -9.027615222777609,\n",
       " 'bmi': 26.301386889081655,\n",
       " 'bp': 10.507957568211486,\n",
       " 's1': -6.41571936831947,\n",
       " 's2': -0.0,\n",
       " 's3': -7.218633317064151,\n",
       " 's4': 3.9303888139005165,\n",
       " 's5': 25.450447350784163,\n",
       " 's6': 4.918969148959157}"
      ]
     },
     "execution_count": 10,
     "metadata": {},
     "output_type": "execute_result"
    }
   ],
   "source": [
    "org_dict = dict(zip(diabetes.feature_names, lasso_8.coef_))\n",
    "org_dict"
   ]
  },
  {
   "cell_type": "markdown",
   "id": "dfa9533a",
   "metadata": {},
   "source": [
    "<b>8) Are your current results closer to those in item 3 or item 6?</b>\n"
   ]
  },
  {
   "cell_type": "markdown",
   "id": "405fb762",
   "metadata": {},
   "source": [
    "After using StandardScaler<br/>\n",
    "<b>Training R^2</b> is  0.5284043647664709<br/>\n",
    "<b>Test R^2</b> is  0.45560871727314545\n",
    "\n",
    "The number of features now used by this models is 9, which are <b>'age', 'sex', 'bmi', 'bp', 's1', 's3', 's4', 's5', 's6'</b>"
   ]
  },
  {
   "cell_type": "markdown",
   "id": "feaddd26",
   "metadata": {},
   "source": [
    "<b>- Are your current results closer to those in item 3 or item 6?</b>"
   ]
  },
  {
   "cell_type": "markdown",
   "id": "1cc9b4fc",
   "metadata": {},
   "source": [
    "In this model the result is closer to the item 6 result which is opposite to our expectation because item 6 use StandardScaler to scale the original data, while in item 3, already normalized data is being used which gives wrong result."
   ]
  },
  {
   "cell_type": "markdown",
   "id": "b48ca4e1",
   "metadata": {},
   "source": [
    "<b>9) Varying the parameter α in the Lasso, plot the test R2 vs the number of features used</b>"
   ]
  },
  {
   "cell_type": "code",
   "execution_count": 11,
   "id": "c736ea89",
   "metadata": {},
   "outputs": [
    {
     "data": {
      "image/png": "[encoded data removed]",
      "text/plain": [
       "<Figure size 432x288 with 1 Axes>"
      ]
     },
     "metadata": {
      "needs_background": "light"
     },
     "output_type": "display_data"
    }
   ],
   "source": [
    "# Different alpha values\n",
    "a = [0.001, 0.01, 0.1, 1, 10, 100]\n",
    "RX = [] # list to save score\n",
    "RY = [] # list to store coefficients\n",
    "\n",
    "for i in range(len(a)): \n",
    "    lasso_compare = Lasso(alpha=a[i]).fit(OX_train_scaled,oy_train)\n",
    "    RX.append(np.sum(lasso_compare.coef_!=0))\n",
    "    RY.append(lasso_compare.score(OX_test_scaled,oy_test))\n",
    "    \n",
    "import matplotlib.pyplot as plt\n",
    "plt.plot(RX, RY, linestyle='dashed', marker='*', markersize=12)\n",
    "plt.xlabel(\"Number of Features\")\n",
    "plt.ylabel(\"Test R^2\")\n",
    "plt.title(\"Test R^2 vs Number of features\")\n",
    "plt.show()"
   ]
  },
  {
   "cell_type": "markdown",
   "id": "941ec33e",
   "metadata": {},
   "source": [
    "From the graph above, <b>(9, 0.50)</b> looks the best point, at which <b>Alpha = 0.001</b><br/>"
   ]
  },
  {
   "cell_type": "markdown",
   "id": "b8ea4457",
   "metadata": {},
   "source": [
    "<b>10) Choose the regularization parameter for the Lasso using cross-validation on the training set.</b>"
   ]
  },
  {
   "cell_type": "code",
   "execution_count": 12,
   "id": "9c4e0bd4",
   "metadata": {},
   "outputs": [
    {
     "data": {
      "text/plain": [
       "0.42917585833024785"
      ]
     },
     "execution_count": 12,
     "metadata": {},
     "output_type": "execute_result"
    }
   ],
   "source": [
    "from sklearn.model_selection import GridSearchCV\n",
    "grid_search = GridSearchCV(Lasso(), {'alpha':[0.001, 0.01, 0.1, 1, 10, 100]}, cv=5)\n",
    "grid_search.fit(OX_train_scaled, oy_train)\n",
    "grid_search.score(OX_test_scaled, oy_test)"
   ]
  },
  {
   "cell_type": "code",
   "execution_count": 13,
   "id": "fcf4fcea",
   "metadata": {},
   "outputs": [
    {
     "name": "stdout",
     "output_type": "stream",
     "text": [
      "{'alpha': 0.001}\n",
      "0.5023517044585724\n"
     ]
    }
   ],
   "source": [
    "print(grid_search.best_params_)\n",
    "print(grid_search.best_score_)"
   ]
  },
  {
   "cell_type": "markdown",
   "id": "46672161",
   "metadata": {},
   "source": [
    "<b>Here alpha is 0.001, which verifies the alpha value getting in item 9</b>"
   ]
  },
  {
   "cell_type": "code",
   "execution_count": 14,
   "id": "1758a37d",
   "metadata": {},
   "outputs": [
    {
     "name": "stdout",
     "output_type": "stream",
     "text": [
      "Training R^2 is 0.538279760152443\n",
      "Test R^2 is 0.42917585833024785\n",
      "Number of features used are 10\n"
     ]
    }
   ],
   "source": [
    "lasso_10 = Lasso(alpha=0.001).fit(OX_train_scaled, oy_train)\n",
    "print(\"Training R^2 is\", lasso_10.score(OX_train_scaled, oy_train))\n",
    "print(\"Test R^2 is\", lasso_10.score(OX_test_scaled, oy_test))\n",
    "print(\"Number of features used are\", np.sum(lasso_10.coef_!=0))"
   ]
  },
  {
   "cell_type": "markdown",
   "id": "ae7c33c5",
   "metadata": {},
   "source": [
    "Using <b>5 fold cross validation, 0.001 is the best alpha</b><br/>\n",
    "Using <b>alpha = 0.001</b>, we get following values:<br/>\n",
    "<b>Training R^2</b> :  0.538279760152443<br/>\n",
    "<b>Test R^2</b> :  0.42917585833024785<br/>\n",
    "Number of features used : 10"
   ]
  },
  {
   "cell_type": "code",
   "execution_count": 15,
   "id": "1259e7e3",
   "metadata": {},
   "outputs": [
    {
     "name": "stdout",
     "output_type": "stream",
     "text": [
      "k for 5%: 95.0\n",
      "k for 20%: 80.0\n",
      "c for 5%: 87.97487556656074\n",
      "c for 20%: 46.92113193926667\n",
      "Length for 5%: 175.94975113312148\n",
      "Length for 20%: 93.84226387853334\n"
     ]
    }
   ],
   "source": [
    "m = 99\n",
    "X_train_proper, X_calibration, y_train_proper, y_calibration = train_test_split(OX_train, oy_train, \n",
    "                                                                                random_state=2707, test_size=m)\n",
    "scaler = StandardScaler()\n",
    "scaler.fit(X_train_proper)\n",
    "X_train_proper_scaled = scaler.transform(X_train_proper)\n",
    "X_calibration_scaled = scaler.transform(X_calibration)\n",
    "X_test_scaled = scaler.transform(OX_test)\n",
    "\n",
    "lasso_11 = Lasso().fit(X_train_proper_scaled, y_train_proper)\n",
    "y_label_predict = lasso_11.predict(X_test_scaled)\n",
    "y_hat_predict = lasso_11.predict(X_calibration_scaled)\n",
    "\n",
    "# nonconformity scores\n",
    "alpha = np.subtract(y_calibration ,y_hat_predict)\n",
    "\n",
    "#sort the nonconformity scores\n",
    "alpha = sorted(alpha)\n",
    "\n",
    "# k = [(1-e)(m+1)]\n",
    "k_05  = (1 - 0.05) *(m + 1)\n",
    "k_20  = (1 - 0.20) *(m + 1)\n",
    "\n",
    "# c = α(k)\n",
    "c_05 = alpha[int(k_05) - 1]\n",
    "c_20 = alpha[int(k_20) - 1]\n",
    "\n",
    "\n",
    "print(\"k for 5%:\", k_05)\n",
    "print(\"k for 20%:\", k_20)\n",
    "\n",
    "print(\"c for 5%:\", c_05)\n",
    "print(\"c for 20%:\", c_20)\n",
    "\n",
    "print(\"Length for 5%:\", c_05*2)\n",
    "print(\"Length for 20%:\", c_20*2)"
   ]
  },
  {
   "cell_type": "code",
   "execution_count": 16,
   "id": "da708b84",
   "metadata": {},
   "outputs": [
    {
     "name": "stdout",
     "output_type": "stream",
     "text": [
      "0.13636363636363635\n",
      "0.3909090909090909\n"
     ]
    }
   ],
   "source": [
    "# prediction set for any predicted sample is [yˆ − c , yˆ + c ]\n",
    "y_pos_05 = y_label_predict + c_05\n",
    "y_neg_05 = y_label_predict - c_05\n",
    "\n",
    "y_pos_20 = y_label_predict + c_20\n",
    "y_neg_20 = y_label_predict - c_20\n",
    "\n",
    "# Check if prediction set exist in test sample\n",
    "err_05 = []\n",
    "for i in range(1, len(oy_test)):\n",
    "    err_05.append(1 if  y_neg_05[i] <= oy_test[i] <= y_pos_05[i] else 0)\n",
    "\n",
    "print(1- np.mean(err_05))\n",
    "\n",
    "err_20 = []\n",
    "for i in range(1, len(oy_test)):\n",
    "    err_20.append(1 if  y_neg_20[i] <= oy_test[i] <= y_pos_20[i] else 0)\n",
    "\n",
    "print(1- np.mean(err_20))"
   ]
  },
  {
   "cell_type": "markdown",
   "id": "b624d254",
   "metadata": {},
   "source": [
    "Error rates at significance level for 5% = 0.13636363636363635 <br/>\n",
    "Error rates at significance level for 20% = 0.3909090909090909"
   ]
  }
 ],
 "metadata": {
  "kernelspec": {
   "display_name": "Python 3",
   "language": "python",
   "name": "python3"
  },
  "language_info": {
   "codemirror_mode": {
    "name": "ipython",
    "version": 3
   },
   "file_extension": ".py",
   "mimetype": "text/x-python",
   "name": "python",
   "nbconvert_exporter": "python",
   "pygments_lexer": "ipython3",
   "version": "3.8.2"
  }
 },
 "nbformat": 4,
 "nbformat_minor": 5
}
