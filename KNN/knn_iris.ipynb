{
 "cells": [
  {
   "cell_type": "markdown",
   "id": "8c543e74",
   "metadata": {},
   "source": [
    "# Libraries"
   ]
  },
  {
   "cell_type": "markdown",
   "id": "fc974b99",
   "metadata": {},
   "source": [
    "Import the required libraries"
   ]
  },
  {
   "cell_type": "code",
   "execution_count": 1,
   "id": "e04b41c9",
   "metadata": {},
   "outputs": [],
   "source": [
    "import numpy as np\n",
    "from math import sqrt\n",
    "import time\n",
    "from sklearn.datasets import load_iris\n",
    "from sklearn.model_selection import train_test_split"
   ]
  },
  {
   "cell_type": "markdown",
   "id": "477a99f8",
   "metadata": {},
   "source": [
    "# Sample Data"
   ]
  },
  {
   "cell_type": "markdown",
   "id": "967b0dfe",
   "metadata": {},
   "source": [
    "Loading the Irish and Ionosphere sample data and format it."
   ]
  },
  {
   "cell_type": "code",
   "execution_count": 2,
   "id": "067c8b4b",
   "metadata": {},
   "outputs": [],
   "source": [
    "#Load iris data\n",
    "iris = load_iris()\n",
    "\n",
    "#Load ionosphere data\n",
    "ionosphere_data = np.genfromtxt(\"ionosphere.txt\", delimiter=',', names=True, dtype=None)\n",
    "\n",
    "ionos_X = []\n",
    "ionos_X = [row for row in ionosphere_data] #format ionos_X values\n",
    "ionos_X = [list(x) for x in ionos_X]\n",
    "ionos_X = np.array(ionos_X) # Convert list to array\n",
    "\n",
    "ionos_y = [row[-1] for row in ionosphere_data] #format ionos_y values\n",
    "ionos_y = np.array(ionos_y) #Convert list to array"
   ]
  },
  {
   "cell_type": "markdown",
   "id": "4c342e0b",
   "metadata": {},
   "source": [
    "# Sorting function"
   ]
  },
  {
   "cell_type": "code",
   "execution_count": 3,
   "id": "0b228a1d",
   "metadata": {},
   "outputs": [],
   "source": [
    "def sort_any_array(arr):\n",
    "    for i in range(len(arr)):\n",
    "        for j in range(len(arr) - 1):\n",
    "            if arr[j] > arr[j+1]:\n",
    "                arr[j], arr[j + 1] = arr[j + 1], arr[j]\n",
    "    return arr"
   ]
  },
  {
   "cell_type": "markdown",
   "id": "81fc283d",
   "metadata": {},
   "source": [
    "# Calculate Euclidean Distances"
   ]
  },
  {
   "cell_type": "code",
   "execution_count": 4,
   "id": "c221d8ee",
   "metadata": {},
   "outputs": [],
   "source": [
    "def euclidean_distances(X_test, X_train):\n",
    "    distance = 0.0\n",
    "    for i in range(len(X_test)-1):\n",
    "        distance += (X_test[i] - X_train[i])**2\n",
    "    dist = np.sqrt(distance)\n",
    "    return dist"
   ]
  },
  {
   "cell_type": "markdown",
   "id": "7162a027",
   "metadata": {},
   "source": [
    "# KNN Algorithm"
   ]
  },
  {
   "cell_type": "markdown",
   "id": "5df81e07",
   "metadata": {},
   "source": [
    "KNN algorithm function for general K value"
   ]
  },
  {
   "cell_type": "code",
   "execution_count": 5,
   "id": "dcc52874",
   "metadata": {},
   "outputs": [],
   "source": [
    "def knn_algorithm(X, y, test_size=0.3,train_size=0.7, random_state=2707, k=1):\n",
    "    #split the data into training and test data\n",
    "    X_train, X_test, y_train, y_test = train_test_split(X, y, random_state=random_state)\n",
    "    \n",
    "    predicted_labels = []\n",
    "    prediction = ({})\n",
    "    \n",
    "    # Training the modal using X_train & y_train\n",
    "    for j in range(len(X_test)):\n",
    "        distances = []\n",
    "        for i in range(len(X_train)):\n",
    "            distance = euclidean_distances(X_test[j,:], X_train[i,:]) # Call function to calculate distance\n",
    "            distances.append([distance, i])\n",
    "        \n",
    "        neighbors = sort_any_array(distances) # Call function to sort the neighbors based on calculated euclidean distance \n",
    "        targets = [y_train[neighbors[i][1]] for i in range(k)] # Get the k neigbhors labels\n",
    "        predicted_labels.append(max(targets, key=targets.count))\n",
    "\n",
    "    prediction['predicted_labels'] = predicted_labels\n",
    "    prediction['accuracy'] = np.mean(predicted_labels == y_test)\n",
    "    prediction['error'] = np.mean(predicted_labels != y_test)\n",
    "    \n",
    "    return prediction"
   ]
  },
  {
   "cell_type": "markdown",
   "id": "48347cd1",
   "metadata": {},
   "source": [
    "# 1NN algorithm"
   ]
  },
  {
   "cell_type": "markdown",
   "id": "586c8be6",
   "metadata": {},
   "source": [
    "Calculate Error rate for Irish dataset for 1NN"
   ]
  },
  {
   "cell_type": "code",
   "execution_count": 6,
   "id": "56e14b98",
   "metadata": {},
   "outputs": [
    {
     "name": "stdout",
     "output_type": "stream",
     "text": [
      "For k=1: Accuracy = 0.9210526315789473 , Error Rate = 0.07894736842105263\n"
     ]
    }
   ],
   "source": [
    "n = 1\n",
    "iris_result = knn_algorithm(iris.data, iris.target, random_state=2707, k = n)\n",
    "print(\"For k=%s: Accuracy = %s , Error Rate = %s\" %(n, iris_result[\"accuracy\"], iris_result[\"error\"]))"
   ]
  },
  {
   "cell_type": "markdown",
   "id": "2ab213f5",
   "metadata": {},
   "source": [
    "Calculate Error rate for Irish dataset for 1NN"
   ]
  },
  {
   "cell_type": "code",
   "execution_count": 7,
   "id": "3219839d",
   "metadata": {},
   "outputs": [
    {
     "name": "stdout",
     "output_type": "stream",
     "text": [
      "For k=1: Accuracy = 0.8977272727272727 , Error Rate = 0.10227272727272728\n"
     ]
    }
   ],
   "source": [
    "n = 1\n",
    "ionos_result = knn_algorithm(ionos_X, ionos_y, random_state=2707, k = n)\n",
    "print(\"For k=%s: Accuracy = %s , Error Rate = %s\" %(n, ionos_result[\"accuracy\"], ionos_result[\"error\"]))"
   ]
  },
  {
   "cell_type": "markdown",
   "id": "0e9a4878",
   "metadata": {},
   "source": [
    "# 3NN algorithm"
   ]
  },
  {
   "cell_type": "markdown",
   "id": "e9509327",
   "metadata": {},
   "source": [
    "Calculate Error rate for Irish dataset for 3NN"
   ]
  },
  {
   "cell_type": "code",
   "execution_count": 8,
   "id": "dd2c79b1",
   "metadata": {},
   "outputs": [
    {
     "name": "stdout",
     "output_type": "stream",
     "text": [
      "For k=3: Accuracy = 0.8947368421052632 , Error Rate = 0.10526315789473684\n"
     ]
    }
   ],
   "source": [
    "n = 3\n",
    "iris_result = knn_algorithm(iris.data, iris.target, random_state=2707, k = n)\n",
    "print(\"For k=%s: Accuracy = %s , Error Rate = %s\" %(n, iris_result[\"accuracy\"], iris_result[\"error\"]))"
   ]
  },
  {
   "cell_type": "markdown",
   "id": "4f74bd1d",
   "metadata": {},
   "source": [
    "Calculate Error rate for Ionosphere dataset for 3NN"
   ]
  },
  {
   "cell_type": "code",
   "execution_count": 9,
   "id": "f7cb1aa0",
   "metadata": {},
   "outputs": [
    {
     "name": "stdout",
     "output_type": "stream",
     "text": [
      "For k=3: Accuracy = 0.8977272727272727 , Error Rate = 0.10227272727272728\n"
     ]
    }
   ],
   "source": [
    "n = 3\n",
    "ionos_result3 = knn_algorithm(ionos_X, ionos_y, random_state=2707, k = n)\n",
    "print(\"For k=%s: Accuracy = %s , Error Rate = %s\" %(n, ionos_result[\"accuracy\"], ionos_result[\"error\"]))"
   ]
  },
  {
   "cell_type": "markdown",
   "id": "35e5deb6",
   "metadata": {},
   "source": [
    "# KNN algorithm for a general K"
   ]
  },
  {
   "cell_type": "markdown",
   "id": "625d990b",
   "metadata": {},
   "source": [
    "Irish Dataset: Calculating error rate for K 1 to N"
   ]
  },
  {
   "cell_type": "code",
   "execution_count": 10,
   "id": "950da725",
   "metadata": {},
   "outputs": [
    {
     "name": "stdout",
     "output_type": "stream",
     "text": [
      "For k=1: Accuracy = 0.9210526315789473 , Error Rate = 0.07894736842105263\n",
      "For k=2: Accuracy = 0.9210526315789473 , Error Rate = 0.07894736842105263\n",
      "For k=3: Accuracy = 0.8947368421052632 , Error Rate = 0.10526315789473684\n",
      "For k=4: Accuracy = 0.9210526315789473 , Error Rate = 0.07894736842105263\n",
      "For k=5: Accuracy = 0.868421052631579 , Error Rate = 0.13157894736842105\n",
      "For k=6: Accuracy = 0.8947368421052632 , Error Rate = 0.10526315789473684\n",
      "For k=7: Accuracy = 0.8947368421052632 , Error Rate = 0.10526315789473684\n",
      "For k=8: Accuracy = 0.9210526315789473 , Error Rate = 0.07894736842105263\n",
      "For k=9: Accuracy = 0.9210526315789473 , Error Rate = 0.07894736842105263\n",
      "For k=10: Accuracy = 0.9210526315789473 , Error Rate = 0.07894736842105263\n",
      "For k=11: Accuracy = 0.9210526315789473 , Error Rate = 0.07894736842105263\n",
      "For k=12: Accuracy = 0.9210526315789473 , Error Rate = 0.07894736842105263\n",
      "For k=13: Accuracy = 0.8947368421052632 , Error Rate = 0.10526315789473684\n",
      "For k=14: Accuracy = 0.8947368421052632 , Error Rate = 0.10526315789473684\n",
      "For k=15: Accuracy = 0.868421052631579 , Error Rate = 0.13157894736842105\n",
      "For k=16: Accuracy = 0.868421052631579 , Error Rate = 0.13157894736842105\n",
      "For k=17: Accuracy = 0.868421052631579 , Error Rate = 0.13157894736842105\n",
      "For k=18: Accuracy = 0.868421052631579 , Error Rate = 0.13157894736842105\n",
      "For k=19: Accuracy = 0.868421052631579 , Error Rate = 0.13157894736842105\n"
     ]
    }
   ],
   "source": [
    "iris_errors = []\n",
    "N = 20\n",
    "\n",
    "for i in range(1, N):\n",
    "    knn = knn_algorithm(iris.data, iris.target, random_state=2707, k=i)\n",
    "    print(\"For k=%s: Accuracy = %s , Error Rate = %s\" %(i, knn[\"accuracy\"], knn[\"error\"]))"
   ]
  },
  {
   "cell_type": "markdown",
   "id": "bf46296b",
   "metadata": {},
   "source": [
    "Ionosphere Dataset: Calculating error rate for K 1 to N"
   ]
  },
  {
   "cell_type": "code",
   "execution_count": 11,
   "id": "0ee09680",
   "metadata": {},
   "outputs": [
    {
     "name": "stdout",
     "output_type": "stream",
     "text": [
      "For k=1: Accuracy = 0.9210526315789473 , Error Rate = 0.07894736842105263\n",
      "For k=2: Accuracy = 0.9210526315789473 , Error Rate = 0.07894736842105263\n",
      "For k=3: Accuracy = 0.8947368421052632 , Error Rate = 0.10526315789473684\n",
      "For k=4: Accuracy = 0.9210526315789473 , Error Rate = 0.07894736842105263\n",
      "For k=5: Accuracy = 0.868421052631579 , Error Rate = 0.13157894736842105\n",
      "For k=6: Accuracy = 0.8947368421052632 , Error Rate = 0.10526315789473684\n",
      "For k=7: Accuracy = 0.8947368421052632 , Error Rate = 0.10526315789473684\n",
      "For k=8: Accuracy = 0.9210526315789473 , Error Rate = 0.07894736842105263\n",
      "For k=9: Accuracy = 0.9210526315789473 , Error Rate = 0.07894736842105263\n",
      "For k=10: Accuracy = 0.9210526315789473 , Error Rate = 0.07894736842105263\n",
      "For k=11: Accuracy = 0.9210526315789473 , Error Rate = 0.07894736842105263\n",
      "For k=12: Accuracy = 0.9210526315789473 , Error Rate = 0.07894736842105263\n",
      "For k=13: Accuracy = 0.8947368421052632 , Error Rate = 0.10526315789473684\n",
      "For k=14: Accuracy = 0.8947368421052632 , Error Rate = 0.10526315789473684\n",
      "For k=15: Accuracy = 0.868421052631579 , Error Rate = 0.13157894736842105\n",
      "For k=16: Accuracy = 0.868421052631579 , Error Rate = 0.13157894736842105\n",
      "For k=17: Accuracy = 0.868421052631579 , Error Rate = 0.13157894736842105\n",
      "For k=18: Accuracy = 0.868421052631579 , Error Rate = 0.13157894736842105\n",
      "For k=19: Accuracy = 0.868421052631579 , Error Rate = 0.13157894736842105\n"
     ]
    }
   ],
   "source": [
    "ionos_errors = []\n",
    "N = 20\n",
    "\n",
    "for i in range(1, N):\n",
    "    knn = knn_algorithm(iris.data, iris.target, random_state=2707, k=i)\n",
    "    print(\"For k=%s: Accuracy = %s , Error Rate = %s\" %(i, knn[\"accuracy\"], knn[\"error\"]))"
   ]
  }
 ],
 "metadata": {
  "kernelspec": {
   "display_name": "Python 3",
   "language": "python",
   "name": "python3"
  },
  "language_info": {
   "codemirror_mode": {
    "name": "ipython",
    "version": 3
   },
   "file_extension": ".py",
   "mimetype": "text/x-python",
   "name": "python",
   "nbconvert_exporter": "python",
   "pygments_lexer": "ipython3",
   "version": "3.8.8"
  }
 },
 "nbformat": 4,
 "nbformat_minor": 5
}
