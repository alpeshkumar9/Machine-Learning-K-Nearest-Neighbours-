{
 "cells": [
  {
   "cell_type": "markdown",
   "id": "fd1e93d1",
   "metadata": {},
   "source": [
    "Task 1"
   ]
  },
  {
   "cell_type": "code",
   "execution_count": 1,
   "id": "8a59525f",
   "metadata": {},
   "outputs": [],
   "source": [
    "import numpy as np\n",
    "from sklearn.datasets import load_wine\n",
    "wine = load_wine()"
   ]
  },
  {
   "cell_type": "markdown",
   "id": "c1cc2ef3",
   "metadata": {},
   "source": [
    "Task 2"
   ]
  },
  {
   "cell_type": "code",
   "execution_count": 2,
   "id": "f93e6d8c",
   "metadata": {},
   "outputs": [],
   "source": [
    "from sklearn.model_selection import train_test_split\n",
    "X_train, X_test, y_train, y_test = train_test_split(wine['data'], wine['target'],random_state=2707)  \n",
    "# split into train & test"
   ]
  },
  {
   "cell_type": "code",
   "execution_count": 3,
   "id": "70d3bf98",
   "metadata": {},
   "outputs": [
    {
     "data": {
      "text/plain": [
       "0.4666666666666667"
      ]
     },
     "execution_count": 3,
     "metadata": {},
     "output_type": "execute_result"
    }
   ],
   "source": [
    "from sklearn.neural_network import MLPClassifier\n",
    "from sklearn.datasets import make_classification\n",
    "\n",
    "clf = MLPClassifier().fit(X_train, y_train)\n",
    "#print(X_test)\n",
    "clf.predict_proba(X_test[:])\n",
    "clf.predict(X_test[:5, :])\n",
    "clf.score(X_test, y_test)"
   ]
  },
  {
   "cell_type": "markdown",
   "id": "6e62cf44",
   "metadata": {},
   "source": [
    "Task 3"
   ]
  },
  {
   "cell_type": "code",
   "execution_count": 4,
   "id": "895c29e0",
   "metadata": {},
   "outputs": [
    {
     "name": "stderr",
     "output_type": "stream",
     "text": [
      "/Users/alpeshkumar/opt/anaconda3/lib/python3.8/site-packages/sklearn/neural_network/_multilayer_perceptron.py:614: ConvergenceWarning: Stochastic Optimizer: Maximum iterations (200) reached and the optimization hasn't converged yet.\n",
      "  warnings.warn(\n"
     ]
    },
    {
     "data": {
      "text/plain": [
       "array([0.63888889, 0.33333333, 0.94444444, 0.62857143, 0.42857143])"
      ]
     },
     "execution_count": 4,
     "metadata": {},
     "output_type": "execute_result"
    }
   ],
   "source": [
    "from sklearn.model_selection import cross_val_score\n",
    "mlp = MLPClassifier()\n",
    "cross_val_score(clf, wine.data, wine.target)"
   ]
  },
  {
   "cell_type": "markdown",
   "id": "c5aeb84e",
   "metadata": {},
   "source": [
    "Task 4"
   ]
  },
  {
   "cell_type": "code",
   "execution_count": 5,
   "id": "a58477ed",
   "metadata": {},
   "outputs": [
    {
     "data": {
      "text/plain": [
       "array([0.38888889, 0.97222222, 0.91666667, 0.34285714, 0.65714286])"
      ]
     },
     "execution_count": 5,
     "metadata": {},
     "output_type": "execute_result"
    }
   ],
   "source": [
    "clf = MLPClassifier(max_iter=1240).fit(X_train, y_train)\n",
    "cross_val_score(clf, wine.data, wine.target)"
   ]
  },
  {
   "cell_type": "markdown",
   "id": "92c9969f",
   "metadata": {},
   "source": [
    "Task 5"
   ]
  },
  {
   "cell_type": "code",
   "execution_count": 6,
   "id": "28b2a14e",
   "metadata": {},
   "outputs": [
    {
     "name": "stdout",
     "output_type": "stream",
     "text": [
      "error:  0.24444444444444446\n"
     ]
    }
   ],
   "source": [
    "from sklearn.metrics import accuracy_score\n",
    "clf5 = MLPClassifier(max_iter=1240)\n",
    "clf5.fit(X_train, y_train)\n",
    "y_pred = clf5.predict(X_test)\n",
    "accuracy = accuracy_score(y_test, y_pred)\n",
    "err = 1- accuracy\n",
    "print(\"error: \", err)"
   ]
  },
  {
   "cell_type": "markdown",
   "id": "81a45d2c",
   "metadata": {},
   "source": [
    "Task 6:"
   ]
  },
  {
   "cell_type": "code",
   "execution_count": 7,
   "id": "134902c9",
   "metadata": {},
   "outputs": [
    {
     "data": {
      "text/plain": [
       "0.9555555555555556"
      ]
     },
     "execution_count": 7,
     "metadata": {},
     "output_type": "execute_result"
    }
   ],
   "source": [
    "from sklearn.pipeline import Pipeline\n",
    "from sklearn.pipeline import make_pipeline\n",
    "from sklearn.preprocessing import Normalizer\n",
    "\n",
    "pipe = make_pipeline(Normalizer(), MLPClassifier(max_iter=2400))\n",
    "pipe.fit(X_train, y_train)\n",
    "pipe.score(X_test, y_test)"
   ]
  },
  {
   "cell_type": "code",
   "execution_count": 9,
   "id": "6a61f769",
   "metadata": {},
   "outputs": [
    {
     "name": "stdout",
     "output_type": "stream",
     "text": [
      "Best cross-validation accuracy: 0.9925925925925926\n",
      "Test set score: 0.9777777777777777\n",
      "Best parameters: {'mlpclassifier__alpha': 0.1, 'normalizer': MinMaxScaler()}\n"
     ]
    }
   ],
   "source": [
    "# Various pre-processing steps\n",
    "from sklearn.preprocessing import Normalizer, StandardScaler, MinMaxScaler, RobustScaler\n",
    "from sklearn.model_selection import GridSearchCV\n",
    "\n",
    "param_grid = {'normalizer': [MinMaxScaler(), Normalizer(), RobustScaler(), StandardScaler()],\n",
    "              'mlpclassifier__alpha': [0.01, 0.1, 1, 10, 100]}\n",
    "grid = GridSearchCV(pipe, param_grid=param_grid, n_jobs=-1, cv=5)\n",
    "grid.fit(X_train, y_train)\n",
    "grid.best_estimator_\n",
    "print(\"Best cross-validation accuracy:\", grid.best_score_)\n",
    "print(\"Test set score:\", grid.score(X_test, y_test))\n",
    "print(\"Best parameters:\", grid.best_params_)"
   ]
  },
  {
   "cell_type": "markdown",
   "id": "78ac4d45",
   "metadata": {},
   "source": [
    "Task 7:"
   ]
  },
  {
   "cell_type": "code",
   "execution_count": 11,
   "id": "83f5539c",
   "metadata": {},
   "outputs": [
    {
     "name": "stdout",
     "output_type": "stream",
     "text": [
      "error:  0.022222222222222254\n"
     ]
    }
   ],
   "source": [
    "y_pred = grid.predict(X_test)\n",
    "accuracy_t7 = accuracy_score(y_test, y_pred)\n",
    "err_t7 = 1- accuracy_t7\n",
    "print(\"error: \", err_t7)"
   ]
  },
  {
   "cell_type": "markdown",
   "id": "ed7bcc43",
   "metadata": {},
   "source": [
    "# USPS dataset"
   ]
  },
  {
   "cell_type": "markdown",
   "id": "d3fe1059",
   "metadata": {},
   "source": [
    "Task 1"
   ]
  },
  {
   "cell_type": "code",
   "execution_count": 12,
   "id": "886b7b4a",
   "metadata": {},
   "outputs": [],
   "source": [
    "import numpy\n",
    "train_file = 'zip.train.gz'\n",
    "test_file = 'zip.test.gz'\n",
    "USPS_train_data = np.genfromtxt(train_file, dtype=str)\n",
    "USPS_test_data = np.genfromtxt(test_file, dtype=str)\n",
    "\n",
    "usps = np.append(USPS_train_data, USPS_test_data, axis=0)"
   ]
  },
  {
   "cell_type": "markdown",
   "id": "aa741a36",
   "metadata": {},
   "source": [
    "Task 2"
   ]
  },
  {
   "cell_type": "code",
   "execution_count": 13,
   "id": "dc973255",
   "metadata": {},
   "outputs": [],
   "source": [
    "from sklearn.model_selection import train_test_split\n",
    "usps_data = usps[:, 1:257]\n",
    "usps_target = usps[:,0]\n",
    "X_train_usps, X_test_usps, y_train_usps, y_test_usps = train_test_split(usps_data, usps_target,random_state=2707)  \n",
    "# split into train & test"
   ]
  },
  {
   "cell_type": "code",
   "execution_count": 14,
   "id": "3e7a2b29",
   "metadata": {},
   "outputs": [
    {
     "name": "stderr",
     "output_type": "stream",
     "text": [
      "/Users/alpeshkumar/opt/anaconda3/lib/python3.8/site-packages/sklearn/neural_network/_multilayer_perceptron.py:614: ConvergenceWarning: Stochastic Optimizer: Maximum iterations (200) reached and the optimization hasn't converged yet.\n",
      "  warnings.warn(\n",
      "/Users/alpeshkumar/opt/anaconda3/lib/python3.8/site-packages/sklearn/utils/validation.py:63: FutureWarning: Arrays of bytes/strings is being converted to decimal numbers if dtype='numeric'. This behavior is deprecated in 0.24 and will be removed in 1.1 (renaming of 0.26). Please convert your data to numeric values explicitly instead.\n",
      "  return f(*args, **kwargs)\n",
      "/Users/alpeshkumar/opt/anaconda3/lib/python3.8/site-packages/sklearn/utils/validation.py:63: FutureWarning: Arrays of bytes/strings is being converted to decimal numbers if dtype='numeric'. This behavior is deprecated in 0.24 and will be removed in 1.1 (renaming of 0.26). Please convert your data to numeric values explicitly instead.\n",
      "  return f(*args, **kwargs)\n",
      "/Users/alpeshkumar/opt/anaconda3/lib/python3.8/site-packages/sklearn/utils/validation.py:63: FutureWarning: Arrays of bytes/strings is being converted to decimal numbers if dtype='numeric'. This behavior is deprecated in 0.24 and will be removed in 1.1 (renaming of 0.26). Please convert your data to numeric values explicitly instead.\n",
      "  return f(*args, **kwargs)\n"
     ]
    },
    {
     "data": {
      "text/plain": [
       "0.6765591397849462"
      ]
     },
     "execution_count": 14,
     "metadata": {},
     "output_type": "execute_result"
    }
   ],
   "source": [
    "clf_usps = MLPClassifier().fit(X_train_usps, y_train_usps)\n",
    "clf_usps.predict_proba(X_test_usps[:])\n",
    "clf_usps.predict(X_test_usps[:5, :])\n",
    "clf_usps.score(X_test_usps, y_test_usps)"
   ]
  },
  {
   "cell_type": "markdown",
   "id": "b375c4be",
   "metadata": {},
   "source": [
    "Task 3"
   ]
  },
  {
   "cell_type": "code",
   "execution_count": 15,
   "id": "a9fafeb0",
   "metadata": {},
   "outputs": [
    {
     "name": "stderr",
     "output_type": "stream",
     "text": [
      "/Users/alpeshkumar/opt/anaconda3/lib/python3.8/site-packages/sklearn/neural_network/_multilayer_perceptron.py:614: ConvergenceWarning: Stochastic Optimizer: Maximum iterations (200) reached and the optimization hasn't converged yet.\n",
      "  warnings.warn(\n",
      "/Users/alpeshkumar/opt/anaconda3/lib/python3.8/site-packages/sklearn/utils/validation.py:63: FutureWarning: Arrays of bytes/strings is being converted to decimal numbers if dtype='numeric'. This behavior is deprecated in 0.24 and will be removed in 1.1 (renaming of 0.26). Please convert your data to numeric values explicitly instead.\n",
      "  return f(*args, **kwargs)\n",
      "/Users/alpeshkumar/opt/anaconda3/lib/python3.8/site-packages/sklearn/neural_network/_multilayer_perceptron.py:614: ConvergenceWarning: Stochastic Optimizer: Maximum iterations (200) reached and the optimization hasn't converged yet.\n",
      "  warnings.warn(\n",
      "/Users/alpeshkumar/opt/anaconda3/lib/python3.8/site-packages/sklearn/utils/validation.py:63: FutureWarning: Arrays of bytes/strings is being converted to decimal numbers if dtype='numeric'. This behavior is deprecated in 0.24 and will be removed in 1.1 (renaming of 0.26). Please convert your data to numeric values explicitly instead.\n",
      "  return f(*args, **kwargs)\n",
      "/Users/alpeshkumar/opt/anaconda3/lib/python3.8/site-packages/sklearn/neural_network/_multilayer_perceptron.py:614: ConvergenceWarning: Stochastic Optimizer: Maximum iterations (200) reached and the optimization hasn't converged yet.\n",
      "  warnings.warn(\n",
      "/Users/alpeshkumar/opt/anaconda3/lib/python3.8/site-packages/sklearn/utils/validation.py:63: FutureWarning: Arrays of bytes/strings is being converted to decimal numbers if dtype='numeric'. This behavior is deprecated in 0.24 and will be removed in 1.1 (renaming of 0.26). Please convert your data to numeric values explicitly instead.\n",
      "  return f(*args, **kwargs)\n",
      "/Users/alpeshkumar/opt/anaconda3/lib/python3.8/site-packages/sklearn/neural_network/_multilayer_perceptron.py:614: ConvergenceWarning: Stochastic Optimizer: Maximum iterations (200) reached and the optimization hasn't converged yet.\n",
      "  warnings.warn(\n",
      "/Users/alpeshkumar/opt/anaconda3/lib/python3.8/site-packages/sklearn/utils/validation.py:63: FutureWarning: Arrays of bytes/strings is being converted to decimal numbers if dtype='numeric'. This behavior is deprecated in 0.24 and will be removed in 1.1 (renaming of 0.26). Please convert your data to numeric values explicitly instead.\n",
      "  return f(*args, **kwargs)\n",
      "/Users/alpeshkumar/opt/anaconda3/lib/python3.8/site-packages/sklearn/neural_network/_multilayer_perceptron.py:614: ConvergenceWarning: Stochastic Optimizer: Maximum iterations (200) reached and the optimization hasn't converged yet.\n",
      "  warnings.warn(\n",
      "/Users/alpeshkumar/opt/anaconda3/lib/python3.8/site-packages/sklearn/utils/validation.py:63: FutureWarning: Arrays of bytes/strings is being converted to decimal numbers if dtype='numeric'. This behavior is deprecated in 0.24 and will be removed in 1.1 (renaming of 0.26). Please convert your data to numeric values explicitly instead.\n",
      "  return f(*args, **kwargs)\n"
     ]
    },
    {
     "data": {
      "text/plain": [
       "array([0.67526882, 0.65483871, 0.65913978, 0.68531469, 0.67832168])"
      ]
     },
     "execution_count": 15,
     "metadata": {},
     "output_type": "execute_result"
    }
   ],
   "source": [
    "mlp_usps = MLPClassifier()\n",
    "cross_val_score(clf_usps, usps_data, usps_target)"
   ]
  },
  {
   "cell_type": "markdown",
   "id": "c2f63f27",
   "metadata": {},
   "source": [
    "Task 4"
   ]
  },
  {
   "cell_type": "code",
   "execution_count": 17,
   "id": "62d8c6fa",
   "metadata": {},
   "outputs": [
    {
     "name": "stderr",
     "output_type": "stream",
     "text": [
      "/Users/alpeshkumar/opt/anaconda3/lib/python3.8/site-packages/sklearn/utils/validation.py:63: FutureWarning: Arrays of bytes/strings is being converted to decimal numbers if dtype='numeric'. This behavior is deprecated in 0.24 and will be removed in 1.1 (renaming of 0.26). Please convert your data to numeric values explicitly instead.\n",
      "  return f(*args, **kwargs)\n",
      "/Users/alpeshkumar/opt/anaconda3/lib/python3.8/site-packages/sklearn/utils/validation.py:63: FutureWarning: Arrays of bytes/strings is being converted to decimal numbers if dtype='numeric'. This behavior is deprecated in 0.24 and will be removed in 1.1 (renaming of 0.26). Please convert your data to numeric values explicitly instead.\n",
      "  return f(*args, **kwargs)\n",
      "/Users/alpeshkumar/opt/anaconda3/lib/python3.8/site-packages/sklearn/utils/validation.py:63: FutureWarning: Arrays of bytes/strings is being converted to decimal numbers if dtype='numeric'. This behavior is deprecated in 0.24 and will be removed in 1.1 (renaming of 0.26). Please convert your data to numeric values explicitly instead.\n",
      "  return f(*args, **kwargs)\n",
      "/Users/alpeshkumar/opt/anaconda3/lib/python3.8/site-packages/sklearn/utils/validation.py:63: FutureWarning: Arrays of bytes/strings is being converted to decimal numbers if dtype='numeric'. This behavior is deprecated in 0.24 and will be removed in 1.1 (renaming of 0.26). Please convert your data to numeric values explicitly instead.\n",
      "  return f(*args, **kwargs)\n",
      "/Users/alpeshkumar/opt/anaconda3/lib/python3.8/site-packages/sklearn/utils/validation.py:63: FutureWarning: Arrays of bytes/strings is being converted to decimal numbers if dtype='numeric'. This behavior is deprecated in 0.24 and will be removed in 1.1 (renaming of 0.26). Please convert your data to numeric values explicitly instead.\n",
      "  return f(*args, **kwargs)\n"
     ]
    },
    {
     "data": {
      "text/plain": [
       "array([0.65752688, 0.65537634, 0.67956989, 0.68961807, 0.67294244])"
      ]
     },
     "execution_count": 17,
     "metadata": {},
     "output_type": "execute_result"
    }
   ],
   "source": [
    "clf_usps = MLPClassifier(max_iter=1240).fit(X_train_usps, y_train_usps)\n",
    "cross_val_score(clf_usps, usps_data, usps_target)"
   ]
  },
  {
   "cell_type": "markdown",
   "id": "24e56511",
   "metadata": {},
   "source": [
    "Task 5"
   ]
  },
  {
   "cell_type": "code",
   "execution_count": 18,
   "id": "ee9a2323",
   "metadata": {},
   "outputs": [
    {
     "name": "stdout",
     "output_type": "stream",
     "text": [
      "error:  0.3290322580645161\n"
     ]
    },
    {
     "name": "stderr",
     "output_type": "stream",
     "text": [
      "/Users/alpeshkumar/opt/anaconda3/lib/python3.8/site-packages/sklearn/utils/validation.py:63: FutureWarning: Arrays of bytes/strings is being converted to decimal numbers if dtype='numeric'. This behavior is deprecated in 0.24 and will be removed in 1.1 (renaming of 0.26). Please convert your data to numeric values explicitly instead.\n",
      "  return f(*args, **kwargs)\n"
     ]
    }
   ],
   "source": [
    "clf_usps_5 = MLPClassifier(max_iter=1240)\n",
    "clf_usps_5.fit(X_train_usps, y_train_usps)\n",
    "y_pred_usps = clf_usps_5.predict(X_test_usps)\n",
    "accuracy = accuracy_score(y_test_usps, y_pred_usps)\n",
    "err_usps = 1- accuracy\n",
    "print(\"error: \", err_usps)"
   ]
  },
  {
   "cell_type": "markdown",
   "id": "26008a87",
   "metadata": {},
   "source": [
    "Task 6:"
   ]
  },
  {
   "cell_type": "code",
   "execution_count": 20,
   "id": "93036449",
   "metadata": {},
   "outputs": [
    {
     "name": "stderr",
     "output_type": "stream",
     "text": [
      "/Users/alpeshkumar/opt/anaconda3/lib/python3.8/site-packages/sklearn/utils/validation.py:63: FutureWarning: Arrays of bytes/strings is being converted to decimal numbers if dtype='numeric'. This behavior is deprecated in 0.24 and will be removed in 1.1 (renaming of 0.26). Please convert your data to numeric values explicitly instead.\n",
      "  return f(*args, **kwargs)\n",
      "/Users/alpeshkumar/opt/anaconda3/lib/python3.8/site-packages/sklearn/utils/validation.py:63: FutureWarning: Arrays of bytes/strings is being converted to decimal numbers if dtype='numeric'. This behavior is deprecated in 0.24 and will be removed in 1.1 (renaming of 0.26). Please convert your data to numeric values explicitly instead.\n",
      "  return f(*args, **kwargs)\n",
      "/Users/alpeshkumar/opt/anaconda3/lib/python3.8/site-packages/sklearn/utils/validation.py:63: FutureWarning: Arrays of bytes/strings is being converted to decimal numbers if dtype='numeric'. This behavior is deprecated in 0.24 and will be removed in 1.1 (renaming of 0.26). Please convert your data to numeric values explicitly instead.\n",
      "  return f(*args, **kwargs)\n"
     ]
    },
    {
     "data": {
      "text/plain": [
       "0.6748387096774193"
      ]
     },
     "execution_count": 20,
     "metadata": {},
     "output_type": "execute_result"
    }
   ],
   "source": [
    "pipe_usps = make_pipeline(Normalizer(), MLPClassifier(max_iter=2400))\n",
    "pipe_usps.fit(X_train_usps, y_train_usps)\n",
    "pipe_usps.score(X_test_usps, y_test_usps)"
   ]
  },
  {
   "cell_type": "code",
   "execution_count": 24,
   "id": "5e7e2d8f",
   "metadata": {},
   "outputs": [
    {
     "name": "stdout",
     "output_type": "stream",
     "text": [
      "Best cross-validation accuracy: 0.7425782796727398\n",
      "Test set score: 0.76\n",
      "Best parameters: {'mlpclassifier__alpha': 1, 'normalizer': MinMaxScaler()}\n"
     ]
    }
   ],
   "source": [
    "param_grid_usps = {'normalizer': [MinMaxScaler(), Normalizer(), RobustScaler(), StandardScaler()],\n",
    "              'mlpclassifier__alpha': [0.01, 0.1, 1, 10, 100]}\n",
    "grid_usps = GridSearchCV(pipe_usps, param_grid=param_grid_usps, n_jobs=-1, cv=5)\n",
    "grid_usps.fit(X_train_usps, y_train_usps)\n",
    "grid_usps.best_estimator_\n",
    "print(\"Best cross-validation accuracy:\", grid_usps.best_score_)\n",
    "print(\"Test set score:\", grid_usps.score(X_test_usps, y_test_usps))\n",
    "print(\"Best parameters:\", grid_usps.best_params_)"
   ]
  },
  {
   "cell_type": "markdown",
   "id": "7f96d596",
   "metadata": {},
   "source": [
    "Task 7"
   ]
  },
  {
   "cell_type": "code",
   "execution_count": 26,
   "id": "324639eb",
   "metadata": {},
   "outputs": [
    {
     "name": "stdout",
     "output_type": "stream",
     "text": [
      "error:  0.24\n"
     ]
    }
   ],
   "source": [
    "y_pred_usps = grid_usps.predict(X_test_usps)\n",
    "accuracy_t7_usps = accuracy_score(y_test_usps, y_pred_usps)\n",
    "err_t7_usps = 1- accuracy_t7_usps\n",
    "print(\"error: \", err_t7_usps)"
   ]
  },
  {
   "cell_type": "code",
   "execution_count": null,
   "id": "44fcd892",
   "metadata": {},
   "outputs": [],
   "source": []
  }
 ],
 "metadata": {
  "kernelspec": {
   "display_name": "Python 3",
   "language": "python",
   "name": "python3"
  },
  "language_info": {
   "codemirror_mode": {
    "name": "ipython",
    "version": 3
   },
   "file_extension": ".py",
   "mimetype": "text/x-python",
   "name": "python",
   "nbconvert_exporter": "python",
   "pygments_lexer": "ipython3",
   "version": "3.8.2"
  }
 },
 "nbformat": 4,
 "nbformat_minor": 5
}
